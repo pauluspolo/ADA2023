{
 "cells": [
  {
   "cell_type": "markdown",
   "id": "e4fc29c0d30afb83",
   "metadata": {},
   "source": [
    "# ADA final exam (Fall 2023)\n",
    "\n",
    "This exam consists of 2 parts. Parts are independent from each other.\n",
    "\n",
    "## Dataset\n",
    "\n",
    "\n",
    "\"Friends\" is an American television sitcom that originally aired on NBC from September 22, 1994, to May 6, 2004. Created by David Crane and Marta Kauffman, the show gained immense popularity and has since become a classic in the world of television. The series is set in New York City and revolves around a group of six friends: Ross Geller (David Schwimmer), Rachel Green (Jennifer Aniston), Monica Geller (Courteney Cox), Chandler Bing (Matthew Perry), Joey Tribbiani (Matt LeBlanc), and Phoebe Buffay (Lisa Kudrow). The show explores their personal and professional lives as they navigate the ups and downs of relationships, careers, and the challenges of adulthood.\n",
    "\n",
    "In this exam, we will use a dataset containing all the conversations that occurred over 10 seasons of Friends. We refer to each row in the dataset as an 'utterance.\" The data format of the dataset is as follows\n",
    "\n",
    "- id: `<str>`, the index of the utterance in the format sAA_eBB_cCC_uDDD, where AA is the season number, BB is the episode number, CC is the scene/conversation number, and DDD is the number of the utterance in the scene (e.g. s01_e18_c05_u021).\n",
    "- speaker: `<str>`, the speaker who made the utterance, e.g. Monica Geller\n",
    "- conversation_id: `<str>`, the id of the first utterance in the conversation this utterance belongs. We assume conversations begin at the start of a new scene.\n",
    "- reply_to: `<str>`, the id of the utterance to which this utterance replies. None if the utterance is the first in a conversation.\n",
    "- text: `<str>`, the textual content of the utterance.\n"
   ]
  },
  {
   "cell_type": "code",
   "execution_count": 1,
   "id": "b039cc2f",
   "metadata": {},
   "outputs": [],
   "source": [
    "# First, let's import some required libraries!\n",
    "import statsmodels.formula.api as smf\n",
    "import pandas as pd\n",
    "from collections import Counter\n",
    "import networkx as nx\n",
    "import seaborn as sns\n",
    "import matplotlib.pyplot as plt\n",
    "import itertools\n",
    "import numpy as np"
   ]
  },
  {
   "cell_type": "markdown",
   "id": "77be188a",
   "metadata": {},
   "source": [
    "\n",
    "## Part 1: The one where you find the protagonist (60 pts)\n",
    "\n",
    "A big debate among Friends fans is: who is the show's main character? In this task, your goal is to provide a data-driven answer to this question.\n",
    "\n",
    "\n",
    "--- \n",
    "\n",
    "**1.1 —** Load the data from the jsonl file `exam1.jsonl` into a pandas dataframe. Then\n",
    " \n",
    " A. Calculate and display the number of distinct speakers in the dataframe.\n",
    " \n",
    " B. Calculate and display the number of conversations (see `conversation_id`).\n",
    " \n",
    " C. Remove all utterances from the dataframe where the `speaker` is \"TRANSCRIPT_NOTE\" or \"#ALL#\". Print the number of rows in the dataframe.\n",
    " \n",
    " D. Create additional columns corresponding to the season (`season`, e.g., season 1 should contain `s01`) and the episode (`episode`, e.g., episode 5 of season 4 should contain `s04_e05`) of each utterance. Print the season and the episode associated with utterance `s10_e18_c11_u019`.\n",
    " \n",
    " E. Create an additional column corresponding to the length of each utterance in terms of the number of characters (`length`). Print the length associated with utterance `s10_e18_c11_u019`.\n"
   ]
  },
  {
   "cell_type": "code",
   "execution_count": 20,
   "id": "0a8f551f",
   "metadata": {},
   "outputs": [],
   "source": [
    "# Import the JSONL file \n",
    "df = pd.read_json(path_or_buf=\"data/exam1.jsonl\", lines=True)"
   ]
  },
  {
   "cell_type": "code",
   "execution_count": 28,
   "id": "2f66482a",
   "metadata": {},
   "outputs": [
    {
     "name": "stdout",
     "output_type": "stream",
     "text": [
      "The number of unique speaker is 700.\n"
     ]
    }
   ],
   "source": [
    "#A.\n",
    "distinct_speaker = df.speaker.nunique()\n",
    "print(\"The number of unique speaker is {}.\".format(distinct_speaker))"
   ]
  },
  {
   "cell_type": "code",
   "execution_count": 27,
   "id": "51e8e00f",
   "metadata": {},
   "outputs": [
    {
     "name": "stdout",
     "output_type": "stream",
     "text": [
      "The number of conversations is 3107.\n"
     ]
    }
   ],
   "source": [
    "#B.\n",
    "number_of_conversations = df.conversation_id.nunique()\n",
    "print(\"The number of conversations is {}.\".format(number_of_conversations))"
   ]
  },
  {
   "cell_type": "code",
   "execution_count": 30,
   "id": "c47b4819",
   "metadata": {},
   "outputs": [
    {
     "name": "stdout",
     "output_type": "stream",
     "text": [
      "The number of rows in the dataframe is 60985.\n"
     ]
    }
   ],
   "source": [
    "#C.\n",
    "removed_speaker = [\"TRANSCRIPT_NOTE\", \"#ALL#\"]\n",
    "df_v2 = df[~(df.speaker.isin(removed_speaker))]\n",
    "print(\"The number of rows in the dataframe is {}.\".format(df_v2.shape[0]))"
   ]
  },
  {
   "cell_type": "code",
   "execution_count": 53,
   "id": "18c64f94",
   "metadata": {},
   "outputs": [],
   "source": [
    "#D.\n",
    "import re\n",
    "\n",
    "lines = []\n",
    "for tmp in list(df.id):\n",
    "    line = [0,0]\n",
    "    splitter_season = [\"_e\"]\n",
    "    splitter_episode = [\"_c\"]\n",
    "    pattern_season = '|'.join(map(re.escape, splitter_season))\n",
    "    pattern_episode = '|'.join(map(re.escape, splitter_episode))\n",
    "    line[0] = re.split(pattern_season, tmp)[0]\n",
    "    line[1] = re.split(pattern_episode, tmp)[0]\n",
    "    lines.append(line)\n",
    "\n",
    "df_season_episode = pd.DataFrame(lines, columns=[\"season\",\"episode\"])\n",
    "df_v3 = df_v2.join(df_season_episode)"
   ]
  },
  {
   "cell_type": "code",
   "execution_count": 57,
   "id": "44dab3e0",
   "metadata": {},
   "outputs": [
    {
     "name": "stdout",
     "output_type": "stream",
     "text": [
      "The season and episode of \"s10_e18_c11_u019\" is:\n"
     ]
    },
    {
     "data": {
      "text/html": [
       "<div>\n",
       "<style scoped>\n",
       "    .dataframe tbody tr th:only-of-type {\n",
       "        vertical-align: middle;\n",
       "    }\n",
       "\n",
       "    .dataframe tbody tr th {\n",
       "        vertical-align: top;\n",
       "    }\n",
       "\n",
       "    .dataframe thead th {\n",
       "        text-align: right;\n",
       "    }\n",
       "</style>\n",
       "<table border=\"1\" class=\"dataframe\">\n",
       "  <thead>\n",
       "    <tr style=\"text-align: right;\">\n",
       "      <th></th>\n",
       "      <th>season</th>\n",
       "      <th>episode</th>\n",
       "    </tr>\n",
       "  </thead>\n",
       "  <tbody>\n",
       "    <tr>\n",
       "      <th>67370</th>\n",
       "      <td>s10</td>\n",
       "      <td>s10_e18</td>\n",
       "    </tr>\n",
       "  </tbody>\n",
       "</table>\n",
       "</div>"
      ],
      "text/plain": [
       "      season  episode\n",
       "67370    s10  s10_e18"
      ]
     },
     "execution_count": 57,
     "metadata": {},
     "output_type": "execute_result"
    }
   ],
   "source": [
    "verif = \"s10_e18_c11_u019\"\n",
    "print(\"The season and episode of \\\"{}\\\" is:\".format(verif))\n",
    "df_v3.loc[df_v3[\"id\"]==verif][[\"season\",\"episode\"]]"
   ]
  },
  {
   "cell_type": "code",
   "execution_count": 91,
   "id": "ab7684f6",
   "metadata": {},
   "outputs": [
    {
     "name": "stdout",
     "output_type": "stream",
     "text": [
      "The utterance length of \"s10_e18_c11_u019\" is [17].\n"
     ]
    }
   ],
   "source": [
    "#E.\n",
    "df_v4 = df_v3.assign(length=lambda x: [len(val) for val in x.text])\n",
    "verif_value = df_v4.loc[df_v4[\"id\"]==verif].length.values\n",
    "print(\"The utterance length of \\\"{}\\\" is {}.\".format(verif,verif_value))"
   ]
  },
  {
   "cell_type": "markdown",
   "id": "60d3bdc7",
   "metadata": {},
   "source": [
    "**1.2** Next, you conduct some basic analyses:\n",
    "\n",
    " A. With `statsmodels`, fit a linear regression `length ~ C(season, Treatment(reference=\"s01\"))`, where length is an integer and season is a categorical variable. Print the regression summary.\n",
    " \n",
    " B. /**Discuss:/** Considering the regression summary:\n",
    "   - What does the intercept in this regression represent? \n",
    "   - What does the coefficient `C(season, Treatment(reference=\"s01\"))[T.s09]` represent? \n",
    "   - Does the average utterance in season 9 contain significantly more characters than in season 1 at the 0.05 significance level? Justify with the regression summary **only**. \n",
    "   - Does the average utterance in season 10 contain significantly more characters than in season 1 at the 0.05 significance level? Justify with the regression summary  **only** .\n",
    "\n",
    " C. Argue visually (i.e., with a plot) that there are 6 main characters in the show."
   ]
  },
  {
   "cell_type": "code",
   "execution_count": 95,
   "id": "bf0b3c34",
   "metadata": {},
   "outputs": [
    {
     "data": {
      "text/html": [
       "<table class=\"simpletable\">\n",
       "<caption>OLS Regression Results</caption>\n",
       "<tr>\n",
       "  <th>Dep. Variable:</th>         <td>length</td>      <th>  R-squared:         </th>  <td>   0.001</td>  \n",
       "</tr>\n",
       "<tr>\n",
       "  <th>Model:</th>                   <td>OLS</td>       <th>  Adj. R-squared:    </th>  <td>   0.001</td>  \n",
       "</tr>\n",
       "<tr>\n",
       "  <th>Method:</th>             <td>Least Squares</td>  <th>  F-statistic:       </th>  <td>   8.058</td>  \n",
       "</tr>\n",
       "<tr>\n",
       "  <th>Date:</th>             <td>Tue, 16 Jan 2024</td> <th>  Prob (F-statistic):</th>  <td>4.96e-12</td>  \n",
       "</tr>\n",
       "<tr>\n",
       "  <th>Time:</th>                 <td>15:55:39</td>     <th>  Log-Likelihood:    </th> <td>-3.2981e+05</td>\n",
       "</tr>\n",
       "<tr>\n",
       "  <th>No. Observations:</th>      <td> 60985</td>      <th>  AIC:               </th>  <td>6.596e+05</td> \n",
       "</tr>\n",
       "<tr>\n",
       "  <th>Df Residuals:</th>          <td> 60975</td>      <th>  BIC:               </th>  <td>6.597e+05</td> \n",
       "</tr>\n",
       "<tr>\n",
       "  <th>Df Model:</th>              <td>     9</td>      <th>                     </th>      <td> </td>     \n",
       "</tr>\n",
       "<tr>\n",
       "  <th>Covariance Type:</th>      <td>nonrobust</td>    <th>                     </th>      <td> </td>     \n",
       "</tr>\n",
       "</table>\n",
       "<table class=\"simpletable\">\n",
       "<tr>\n",
       "                        <td></td>                          <th>coef</th>     <th>std err</th>      <th>t</th>      <th>P>|t|</th>  <th>[0.025</th>    <th>0.975]</th>  \n",
       "</tr>\n",
       "<tr>\n",
       "  <th>Intercept</th>                                    <td>   51.0190</td> <td>    0.704</td> <td>   72.464</td> <td> 0.000</td> <td>   49.639</td> <td>   52.399</td>\n",
       "</tr>\n",
       "<tr>\n",
       "  <th>C(season, Treatment(reference='s01'))[T.s02]</th> <td>    2.2764</td> <td>    1.004</td> <td>    2.268</td> <td> 0.023</td> <td>    0.309</td> <td>    4.243</td>\n",
       "</tr>\n",
       "<tr>\n",
       "  <th>C(season, Treatment(reference='s01'))[T.s03]</th> <td>    1.1906</td> <td>    0.974</td> <td>    1.222</td> <td> 0.222</td> <td>   -0.718</td> <td>    3.100</td>\n",
       "</tr>\n",
       "<tr>\n",
       "  <th>C(season, Treatment(reference='s01'))[T.s04]</th> <td>    0.6674</td> <td>    0.980</td> <td>    0.681</td> <td> 0.496</td> <td>   -1.253</td> <td>    2.588</td>\n",
       "</tr>\n",
       "<tr>\n",
       "  <th>C(season, Treatment(reference='s01'))[T.s05]</th> <td>   -0.3185</td> <td>    0.984</td> <td>   -0.324</td> <td> 0.746</td> <td>   -2.247</td> <td>    1.610</td>\n",
       "</tr>\n",
       "<tr>\n",
       "  <th>C(season, Treatment(reference='s01'))[T.s06]</th> <td>    1.9612</td> <td>    0.974</td> <td>    2.013</td> <td> 0.044</td> <td>    0.052</td> <td>    3.871</td>\n",
       "</tr>\n",
       "<tr>\n",
       "  <th>C(season, Treatment(reference='s01'))[T.s07]</th> <td>    0.3712</td> <td>    0.979</td> <td>    0.379</td> <td> 0.705</td> <td>   -1.548</td> <td>    2.290</td>\n",
       "</tr>\n",
       "<tr>\n",
       "  <th>C(season, Treatment(reference='s01'))[T.s08]</th> <td>    1.1265</td> <td>    0.982</td> <td>    1.147</td> <td> 0.251</td> <td>   -0.799</td> <td>    3.052</td>\n",
       "</tr>\n",
       "<tr>\n",
       "  <th>C(season, Treatment(reference='s01'))[T.s09]</th> <td>    6.0889</td> <td>    0.979</td> <td>    6.222</td> <td> 0.000</td> <td>    4.171</td> <td>    8.007</td>\n",
       "</tr>\n",
       "<tr>\n",
       "  <th>C(season, Treatment(reference='s01'))[T.s10]</th> <td>   -0.8470</td> <td>    1.026</td> <td>   -0.825</td> <td> 0.409</td> <td>   -2.858</td> <td>    1.164</td>\n",
       "</tr>\n",
       "</table>\n",
       "<table class=\"simpletable\">\n",
       "<tr>\n",
       "  <th>Omnibus:</th>       <td>39360.499</td> <th>  Durbin-Watson:     </th>  <td>   1.966</td> \n",
       "</tr>\n",
       "<tr>\n",
       "  <th>Prob(Omnibus):</th>  <td> 0.000</td>   <th>  Jarque-Bera (JB):  </th> <td>721113.209</td>\n",
       "</tr>\n",
       "<tr>\n",
       "  <th>Skew:</th>           <td> 2.832</td>   <th>  Prob(JB):          </th>  <td>    0.00</td> \n",
       "</tr>\n",
       "<tr>\n",
       "  <th>Kurtosis:</th>       <td>18.865</td>   <th>  Cond. No.          </th>  <td>    11.1</td> \n",
       "</tr>\n",
       "</table><br/><br/>Notes:<br/>[1] Standard Errors assume that the covariance matrix of the errors is correctly specified."
      ],
      "text/latex": [
       "\\begin{center}\n",
       "\\begin{tabular}{lclc}\n",
       "\\toprule\n",
       "\\textbf{Dep. Variable:}                               &      length      & \\textbf{  R-squared:         } &      0.001   \\\\\n",
       "\\textbf{Model:}                                       &       OLS        & \\textbf{  Adj. R-squared:    } &      0.001   \\\\\n",
       "\\textbf{Method:}                                      &  Least Squares   & \\textbf{  F-statistic:       } &      8.058   \\\\\n",
       "\\textbf{Date:}                                        & Tue, 16 Jan 2024 & \\textbf{  Prob (F-statistic):} &   4.96e-12   \\\\\n",
       "\\textbf{Time:}                                        &     15:55:39     & \\textbf{  Log-Likelihood:    } & -3.2981e+05  \\\\\n",
       "\\textbf{No. Observations:}                            &       60985      & \\textbf{  AIC:               } &  6.596e+05   \\\\\n",
       "\\textbf{Df Residuals:}                                &       60975      & \\textbf{  BIC:               } &  6.597e+05   \\\\\n",
       "\\textbf{Df Model:}                                    &           9      & \\textbf{                     } &              \\\\\n",
       "\\textbf{Covariance Type:}                             &    nonrobust     & \\textbf{                     } &              \\\\\n",
       "\\bottomrule\n",
       "\\end{tabular}\n",
       "\\begin{tabular}{lcccccc}\n",
       "                                                      & \\textbf{coef} & \\textbf{std err} & \\textbf{t} & \\textbf{P$> |$t$|$} & \\textbf{[0.025} & \\textbf{0.975]}  \\\\\n",
       "\\midrule\n",
       "\\textbf{Intercept}                                    &      51.0190  &        0.704     &    72.464  &         0.000        &       49.639    &       52.399     \\\\\n",
       "\\textbf{C(season, Treatment(reference='s01'))[T.s02]} &       2.2764  &        1.004     &     2.268  &         0.023        &        0.309    &        4.243     \\\\\n",
       "\\textbf{C(season, Treatment(reference='s01'))[T.s03]} &       1.1906  &        0.974     &     1.222  &         0.222        &       -0.718    &        3.100     \\\\\n",
       "\\textbf{C(season, Treatment(reference='s01'))[T.s04]} &       0.6674  &        0.980     &     0.681  &         0.496        &       -1.253    &        2.588     \\\\\n",
       "\\textbf{C(season, Treatment(reference='s01'))[T.s05]} &      -0.3185  &        0.984     &    -0.324  &         0.746        &       -2.247    &        1.610     \\\\\n",
       "\\textbf{C(season, Treatment(reference='s01'))[T.s06]} &       1.9612  &        0.974     &     2.013  &         0.044        &        0.052    &        3.871     \\\\\n",
       "\\textbf{C(season, Treatment(reference='s01'))[T.s07]} &       0.3712  &        0.979     &     0.379  &         0.705        &       -1.548    &        2.290     \\\\\n",
       "\\textbf{C(season, Treatment(reference='s01'))[T.s08]} &       1.1265  &        0.982     &     1.147  &         0.251        &       -0.799    &        3.052     \\\\\n",
       "\\textbf{C(season, Treatment(reference='s01'))[T.s09]} &       6.0889  &        0.979     &     6.222  &         0.000        &        4.171    &        8.007     \\\\\n",
       "\\textbf{C(season, Treatment(reference='s01'))[T.s10]} &      -0.8470  &        1.026     &    -0.825  &         0.409        &       -2.858    &        1.164     \\\\\n",
       "\\bottomrule\n",
       "\\end{tabular}\n",
       "\\begin{tabular}{lclc}\n",
       "\\textbf{Omnibus:}       & 39360.499 & \\textbf{  Durbin-Watson:     } &     1.966   \\\\\n",
       "\\textbf{Prob(Omnibus):} &    0.000  & \\textbf{  Jarque-Bera (JB):  } & 721113.209  \\\\\n",
       "\\textbf{Skew:}          &    2.832  & \\textbf{  Prob(JB):          } &      0.00   \\\\\n",
       "\\textbf{Kurtosis:}      &   18.865  & \\textbf{  Cond. No.          } &      11.1   \\\\\n",
       "\\bottomrule\n",
       "\\end{tabular}\n",
       "%\\caption{OLS Regression Results}\n",
       "\\end{center}\n",
       "\n",
       "Notes: \\newline\n",
       " [1] Standard Errors assume that the covariance matrix of the errors is correctly specified."
      ],
      "text/plain": [
       "<class 'statsmodels.iolib.summary.Summary'>\n",
       "\"\"\"\n",
       "                            OLS Regression Results                            \n",
       "==============================================================================\n",
       "Dep. Variable:                 length   R-squared:                       0.001\n",
       "Model:                            OLS   Adj. R-squared:                  0.001\n",
       "Method:                 Least Squares   F-statistic:                     8.058\n",
       "Date:                Tue, 16 Jan 2024   Prob (F-statistic):           4.96e-12\n",
       "Time:                        15:55:39   Log-Likelihood:            -3.2981e+05\n",
       "No. Observations:               60985   AIC:                         6.596e+05\n",
       "Df Residuals:                   60975   BIC:                         6.597e+05\n",
       "Df Model:                           9                                         \n",
       "Covariance Type:            nonrobust                                         \n",
       "================================================================================================================\n",
       "                                                   coef    std err          t      P>|t|      [0.025      0.975]\n",
       "----------------------------------------------------------------------------------------------------------------\n",
       "Intercept                                       51.0190      0.704     72.464      0.000      49.639      52.399\n",
       "C(season, Treatment(reference='s01'))[T.s02]     2.2764      1.004      2.268      0.023       0.309       4.243\n",
       "C(season, Treatment(reference='s01'))[T.s03]     1.1906      0.974      1.222      0.222      -0.718       3.100\n",
       "C(season, Treatment(reference='s01'))[T.s04]     0.6674      0.980      0.681      0.496      -1.253       2.588\n",
       "C(season, Treatment(reference='s01'))[T.s05]    -0.3185      0.984     -0.324      0.746      -2.247       1.610\n",
       "C(season, Treatment(reference='s01'))[T.s06]     1.9612      0.974      2.013      0.044       0.052       3.871\n",
       "C(season, Treatment(reference='s01'))[T.s07]     0.3712      0.979      0.379      0.705      -1.548       2.290\n",
       "C(season, Treatment(reference='s01'))[T.s08]     1.1265      0.982      1.147      0.251      -0.799       3.052\n",
       "C(season, Treatment(reference='s01'))[T.s09]     6.0889      0.979      6.222      0.000       4.171       8.007\n",
       "C(season, Treatment(reference='s01'))[T.s10]    -0.8470      1.026     -0.825      0.409      -2.858       1.164\n",
       "==============================================================================\n",
       "Omnibus:                    39360.499   Durbin-Watson:                   1.966\n",
       "Prob(Omnibus):                  0.000   Jarque-Bera (JB):           721113.209\n",
       "Skew:                           2.832   Prob(JB):                         0.00\n",
       "Kurtosis:                      18.865   Cond. No.                         11.1\n",
       "==============================================================================\n",
       "\n",
       "Notes:\n",
       "[1] Standard Errors assume that the covariance matrix of the errors is correctly specified.\n",
       "\"\"\""
      ]
     },
     "execution_count": 95,
     "metadata": {},
     "output_type": "execute_result"
    }
   ],
   "source": [
    "#A.\n",
    "mod = smf.ols(formula=\"length ~ C(season, Treatment(reference='s01'))\", data=df_v4)\n",
    "np.random.seed(42)\n",
    "res = mod.fit()\n",
    "res.summary()"
   ]
  },
  {
   "cell_type": "markdown",
   "id": "7cfd326e",
   "metadata": {},
   "source": [
    "#B\n",
    "- The intercept represent the mean outcome when all predictors are 0, so here it is 51.0190.\n",
    "- `C(season, Treatment(reference=\"s01\"))[T.s09]` means multiple things:\n",
    "    - the predictor studied is `season`\n",
    "    - it is a categorical value\n",
    "    - `Treatment(reference=\"s01\")` means `s01` is taken as the season reference\n",
    "    - `[T.s09]`, the line studied here will give the result for the season 9, `s09`\n",
    "- p_value for `C(season, Treatment(reference=\"s01\"))[T.s09]` si far below 0.05 and the coefficient for season 9 is higher than the reference s01, so this assumption is true: the average utterance in season 9 contain significantly more characters than in season 1 at the 0.05 significance level\n",
    "- No, this is wrong as the p_value is 0.409>0.05. So, it does not respect the significance level. This assumption is false: the average utterance in season 10 contain significantly more characters than in season 1 at the 0.05 significance level\n"
   ]
  },
  {
   "cell_type": "code",
   "execution_count": 100,
   "id": "85c9cdd7",
   "metadata": {},
   "outputs": [
    {
     "data": {
      "image/png": "[encoded data removed]",
      "text/plain": [
       "<Figure size 640x480 with 1 Axes>"
      ]
     },
     "metadata": {},
     "output_type": "display_data"
    }
   ],
   "source": [
    "#C\n",
    "value_count_speaker = df_v4.speaker.value_counts()\n",
    "sns.barplot(value_count_speaker);"
   ]
  },
  {
   "cell_type": "markdown",
   "id": "5823f462",
   "metadata": {},
   "source": [
    "The previous plot is awful but it shows that very small characters have a utterance count way higher than the rest of other speakers. Let's dig in to that by just plotting the top 10 character in terms of utterance count."
   ]
  },
  {
   "cell_type": "code",
   "execution_count": 103,
   "id": "0e0cef4f",
   "metadata": {},
   "outputs": [
    {
     "data": {
      "image/png": "[encoded data removed]",
      "text/plain": [
       "<Figure size 640x480 with 1 Axes>"
      ]
     },
     "metadata": {},
     "output_type": "display_data"
    }
   ],
   "source": [
    "value_count_speaker = df_v4.speaker.value_counts().head(10)\n",
    "sns.barplot(value_count_speaker, orient=\"h\");"
   ]
  },
  {
   "cell_type": "markdown",
   "id": "496f5915",
   "metadata": {},
   "source": [
    "The above graph visually argues that 6 characters have more importance than the rest (by the above grah, one can understand that the other characters not present in the last graph speak less than Carol Willick)."
   ]
  },
  {
   "cell_type": "markdown",
   "id": "eeb47cab",
   "metadata": {},
   "source": [
    "--- \n",
    "**1.3 —** Using `networkx` \n",
    "\n",
    "A. Create a `MultiDiGraph` (directed graph with self loops and parallel edges) where:\n",
    "- Each node $u$ is a character uniquely identified by the `speaker` field.\n",
    "- There is an edge between nodes $u$ and $v$ if $u$ replied to $v$. If an utterance (a row in the dataframe) is said in reply to nobody, then it will not correspond to an edge. Each edge should contain two attributes. Each edge should have two attributes: `season` and `episode`.\n",
    "\n",
    "B. Print the number of nodes and edges in your graph.\n",
    "\n",
    "C. **/Discuss:/** Instead of using multi-edges, what would be another way in which you could capture the number of replies associated with each node pair?\n"
   ]
  },
  {
   "cell_type": "code",
   "execution_count": null,
   "id": "9f362612",
   "metadata": {},
   "outputs": [],
   "source": [
    "#A\n",
    "G = nx.MultiDiGraph()\n",
    "\n",
    "# Creates node attributes\n",
    "node_list = df_v4.speaker.unique()\n",
    "for tmp in node_list:\n",
    "    G.add_node(tmp, speaker=tmp)\n",
    "\n",
    "# Creates edge attributes\n",
    "for i, edge in df_v4.iterrows():\n",
    "    edge = dict(edge)\n",
    "    if (i%10000==0 and i!=0):\n",
    "        print(\"n_iter = {}\".format(i))\n",
    "    if (edge['reply-to']!=None):\n",
    "        G.add_edge(str(edge['speaker']), str(df_v4.loc[df_v4.conversation_id==str(edge['reply-to'])].speaker), reply_to=edge['reply-to'])"
   ]
  },
  {
   "cell_type": "markdown",
   "id": "74c210e8",
   "metadata": {},
   "source": [
    "#C\n",
    "\n",
    "We could create a graph with nodes being the conversation_id and reply-to columns. The edges being their relations. The speakers associated to each edge is associated as attributes."
   ]
  },
  {
   "cell_type": "markdown",
   "id": "130a16f1",
   "metadata": {},
   "source": [
    "---\n",
    "With the graph ready, you set out to investigate who is the true protagonist of Friends.\n",
    "\n",
    "Ignore the graph you generated previously and instead use the graph provided in `exam2.graphml`. Note that this graph may be slightly different from what you generated, but treat it as the ground truth. We provide you with code to load the graph below.\n"
   ]
  },
  {
   "cell_type": "code",
   "execution_count": 134,
   "id": "a917d360",
   "metadata": {},
   "outputs": [],
   "source": [
    "import networkx as nx\n",
    "\n",
    "G = nx.read_graphml(\"./data/exam2.graphml\")"
   ]
  },
  {
   "cell_type": "markdown",
   "id": "6ad04b50",
   "metadata": {},
   "source": [
    "---"
   ]
  },
  {
   "cell_type": "markdown",
   "id": "53ee10e7",
   "metadata": {},
   "source": [
    "**1.4 —** Using the provided MultiDiGraph $G$:\n",
    "\n",
    "A. Calculate the out-degree of each node (also known as out-degree centrality). Please do not use the `nx.out_degree_centrality` function here, as it normalizes the degree. (E.g., if a node has 5 outgoing edges, it should have out-degree 5 according to your code.)\n",
    "\n",
    "B. Calculate the PageRank centrality of each node in $G$. Use the default parameters.\n",
    "\n",
    "C. Print both centrality metrics calculated above for the six main characters of Friends.\n",
    "\n",
    "D. **/Discuss:/** According to the metrics, who is the most important character in Friends?"
   ]
  },
  {
   "cell_type": "code",
   "execution_count": 169,
   "id": "13e777e4",
   "metadata": {},
   "outputs": [],
   "source": [
    "#A.\n",
    "# This returns the number of edges pointing out of each nodes\n",
    "outdegree_dict = dict(G.out_degree())"
   ]
  },
  {
   "cell_type": "code",
   "execution_count": 162,
   "id": "8d0aba13",
   "metadata": {},
   "outputs": [],
   "source": [
    "#B.\n",
    "pagerank_centrality = dict(nx.pagerank(G))"
   ]
  },
  {
   "cell_type": "code",
   "execution_count": 191,
   "id": "9cfae75d",
   "metadata": {},
   "outputs": [
    {
     "name": "stdout",
     "output_type": "stream",
     "text": [
      "Top 6 outdegree:\n",
      "{'Rachel Green': 8470, 'Ross Geller': 8234, 'Chandler Bing': 7702, 'Monica Geller': 7621, 'Joey Tribbiani': 7395, 'Phoebe Buffay': 6797}\n",
      "\n",
      "Top 6 pagerank:\n",
      "{'Rachel Green': 0.12684259753919158, 'Ross Geller': 0.12561115738701217, 'Chandler Bing': 0.1145352324808736, 'Monica Geller': 0.1134500759232524, 'Joey Tribbiani': 0.11283519639878972, 'Phoebe Buffay': 0.10206929426008514}\n"
     ]
    }
   ],
   "source": [
    "#C.\n",
    "top6_characters = value_count_speaker.head(6).reset_index().speaker\n",
    "\n",
    "top6_outdegree_dict={k: outdegree_dict.get(k,0) for k in top6_characters}\n",
    "top6_centrality_dict={k: pagerank_centrality.get(k,0) for k in top6_characters}\n",
    "\n",
    "print(\"Top 6 outdegree:\")\n",
    "print(top6_outdegree_dict)\n",
    "print(\"\\nTop 6 pagerank:\")\n",
    "print(top6_centrality_dict)"
   ]
  },
  {
   "cell_type": "markdown",
   "id": "12465501",
   "metadata": {},
   "source": [
    "#D\n",
    "\n",
    "Regardig the two above metrics, Rachel seems to be the most important character in Friends."
   ]
  },
  {
   "cell_type": "markdown",
   "id": "fe9f1601",
   "metadata": {},
   "source": [
    "---\n",
    "\n",
    "**1.5 —** **/True or false:/** Considering your answer in **1.4**, are the following statements true or false? Justify your answers. \n",
    "\n",
    "A. \"If we inverted all  edges in the graph such that an edge $(u,v)$ becomes an edge $(v,u)$, the PageRank centrality would remain unchanged.\"\n",
    "\n",
    "B. \"If we removed all outgoing edges from Rachel Green, her PageRank centrality would remain unchanged.\"\n",
    "\n",
    "C. \"If a new node was introduced in the graph, with 1,000 outgoing edges towards each other node, but no incoming edge, it would have the highest PageRank centrality.\"\n"
   ]
  },
  {
   "cell_type": "markdown",
   "id": "aca90d6a",
   "metadata": {},
   "source": [
    "#A False, PageRank is based on the number of inlinks, so reversing the edges will have an impact on PageRank centrality"
   ]
  },
  {
   "cell_type": "markdown",
   "id": "0f70110a",
   "metadata": {},
   "source": [
    "#B True, PageRank is based on inlinks so on its indegree, so this measure does not take care of the outgoing edge."
   ]
  },
  {
   "cell_type": "markdown",
   "id": "4a1710a5",
   "metadata": {},
   "source": [
    "#C False, it is wrong as the pagerank centrality will be 0 a_ji is 0 for all edges as there are just outgoing edges."
   ]
  },
  {
   "cell_type": "markdown",
   "id": "6e47355c",
   "metadata": {},
   "source": [
    "---\n",
    "\n",
    "**1.6 —** Next, you consider how these centrality metrics vary over the course of the seasons.\n",
    "\n",
    "A. Calculate the PageRank and out-degree centrality of the 6 main characters per episode, i.e., for each episode, create a graph containing only the utterances of that episode and calculate the PageRank centrality for this new graph. Print the PageRank and the out-degree of Rachel Green for the first episode of the first season.\n",
    "\n",
    "B. Considering the episode-level out-degree centrality of Phoebe Buffay in season 1 and in season 10, print the mean and the standard error of the mean.\n",
    "\n",
    "C. Create a single plot with 10 inches of width and 4 inches of height. The plot should contain two panels, containing the average PageRank centrality per season of Rachel Green and Ross Geller (Panel A), and the average out-degree per season of Rachel Green and Ross Geller (Panel B). Show 95% confidence intervals in your plot (calculated over the episodes in each season).\n",
    "\n",
    "D. **/Discuss:/** Does the plot support the hypothesis that Rachel was the show's protagonist in all 10 seasons? Explain why."
   ]
  },
  {
   "cell_type": "code",
   "execution_count": 211,
   "id": "4e09a998",
   "metadata": {},
   "outputs": [],
   "source": [
    "# A.\n",
    "season = nx.get_edge_attributes(G, \"season\")\n",
    "episode = nx.get_edge_attributes(G, \"episode\")\n",
    "df = []\n",
    "for u, v, k in G.edges:\n",
    "    df.append(\n",
    "    {   \n",
    "        \"speaker_1\": u,\n",
    "        \"speaker_2\": v,\n",
    "        \"season\": season[(u,v,k)],\n",
    "        \"episode\": episode[(u,v,k)]\n",
    "    }\n",
    "    )\n",
    "df_G =pd.DataFrame(df)"
   ]
  },
  {
   "cell_type": "code",
   "execution_count": 239,
   "id": "9d1304a5",
   "metadata": {},
   "outputs": [],
   "source": [
    "# all subgraph for each episod stored in BIG_G\n",
    "episode_list = df_G.episode.unique()\n",
    "BIG_G = []\n",
    "BIG_G.append([nx.from_pandas_edgelist(df_G.loc[df_G[\"episode\"]==episode_list[k]], 'speaker_1', 'speaker_2', edge_attr=None, create_using = nx.MultiDiGraph()) for k in range(len(episode_list))])"
   ]
  },
  {
   "cell_type": "code",
   "execution_count": 257,
   "id": "b42f9d1a",
   "metadata": {},
   "outputs": [],
   "source": [
    "top6_characters = value_count_speaker.head(6).reset_index().speaker\n",
    "df_1 = []\n",
    "df_2 = []\n",
    "for tmp in range(len(episode_list)):\n",
    "    outdegree_dict = dict(BIG_G[0][tmp].out_degree())\n",
    "    pagerank_centrality = dict(nx.pagerank(BIG_G[0][tmp]))\n",
    "\n",
    "    top6_outdegree_dict={k: outdegree_dict.get(k,0) for k in top6_characters}\n",
    "    top6_centrality_dict={k: pagerank_centrality.get(k,0) for k in top6_characters}\n",
    "\n",
    "    season = episode_list[tmp].split(\"_e\")[0]\n",
    "\n",
    "    for k,v in top6_outdegree_dict.items():\n",
    "        df_1.append(\n",
    "        {   \n",
    "            \"season\": season,\n",
    "            \"episode\": episode_list[tmp],\n",
    "            \"speaker\": k,\n",
    "            \"outdegree\": v\n",
    "        }\n",
    "        )\n",
    "\n",
    "    for k,v in top6_centrality_dict.items():\n",
    "        df_2.append(\n",
    "        {   \n",
    "            \"season\": season,\n",
    "            \"episode\": episode_list[tmp],\n",
    "            \"speaker\": k,\n",
    "            \"pagerank\": v\n",
    "        }\n",
    "        )\n",
    "df_1 = pd.DataFrame(df_1)\n",
    "df_2 = pd.DataFrame(df_2)\n",
    "\n",
    "df_centrality_all_episodes =pd.merge(df_1, df_2, how=\"inner\", on=[\"season\", \"episode\", \"speaker\"])"
   ]
  },
  {
   "cell_type": "code",
   "execution_count": 258,
   "id": "e47bc3e6",
   "metadata": {},
   "outputs": [
    {
     "name": "stdout",
     "output_type": "stream",
     "text": [
      "Below the results for outdegree and pagerank centrality of Rachel Green in the s01_e01.\n"
     ]
    },
    {
     "data": {
      "text/html": [
       "<div>\n",
       "<style scoped>\n",
       "    .dataframe tbody tr th:only-of-type {\n",
       "        vertical-align: middle;\n",
       "    }\n",
       "\n",
       "    .dataframe tbody tr th {\n",
       "        vertical-align: top;\n",
       "    }\n",
       "\n",
       "    .dataframe thead th {\n",
       "        text-align: right;\n",
       "    }\n",
       "</style>\n",
       "<table border=\"1\" class=\"dataframe\">\n",
       "  <thead>\n",
       "    <tr style=\"text-align: right;\">\n",
       "      <th></th>\n",
       "      <th>season</th>\n",
       "      <th>episode</th>\n",
       "      <th>speaker</th>\n",
       "      <th>outdegree</th>\n",
       "      <th>pagerank</th>\n",
       "    </tr>\n",
       "  </thead>\n",
       "  <tbody>\n",
       "    <tr>\n",
       "      <th>0</th>\n",
       "      <td>s01</td>\n",
       "      <td>s01_e01</td>\n",
       "      <td>Rachel Green</td>\n",
       "      <td>43</td>\n",
       "      <td>0.153122</td>\n",
       "    </tr>\n",
       "  </tbody>\n",
       "</table>\n",
       "</div>"
      ],
      "text/plain": [
       "  season  episode       speaker  outdegree  pagerank\n",
       "0    s01  s01_e01  Rachel Green         43  0.153122"
      ]
     },
     "execution_count": 258,
     "metadata": {},
     "output_type": "execute_result"
    }
   ],
   "source": [
    "verif_final = \"s01_e01\"\n",
    "\n",
    "print(\"Below the results for outdegree and pagerank centrality of Rachel Green in the {}.\".format(verif_final))\n",
    "df_centrality_all_episodes.loc[(df_centrality_all_episodes.speaker==\"Rachel Green\")&(df_centrality_all_episodes.episode==verif_final)]"
   ]
  },
  {
   "cell_type": "code",
   "execution_count": 259,
   "id": "934c22ec",
   "metadata": {},
   "outputs": [
    {
     "name": "stdout",
     "output_type": "stream",
     "text": [
      "Below the outdegree and pagerank mean and sem of Phoebe Buffay in season 1\n"
     ]
    },
    {
     "data": {
      "text/html": [
       "<div>\n",
       "<style scoped>\n",
       "    .dataframe tbody tr th:only-of-type {\n",
       "        vertical-align: middle;\n",
       "    }\n",
       "\n",
       "    .dataframe tbody tr th {\n",
       "        vertical-align: top;\n",
       "    }\n",
       "\n",
       "    .dataframe thead th {\n",
       "        text-align: right;\n",
       "    }\n",
       "</style>\n",
       "<table border=\"1\" class=\"dataframe\">\n",
       "  <thead>\n",
       "    <tr style=\"text-align: right;\">\n",
       "      <th></th>\n",
       "      <th>outdegree</th>\n",
       "      <th>pagerank</th>\n",
       "    </tr>\n",
       "  </thead>\n",
       "  <tbody>\n",
       "    <tr>\n",
       "      <th>mean</th>\n",
       "      <td>23.333333</td>\n",
       "      <td>0.104929</td>\n",
       "    </tr>\n",
       "    <tr>\n",
       "      <th>sem</th>\n",
       "      <td>2.200681</td>\n",
       "      <td>0.008984</td>\n",
       "    </tr>\n",
       "  </tbody>\n",
       "</table>\n",
       "</div>"
      ],
      "text/plain": [
       "      outdegree  pagerank\n",
       "mean  23.333333  0.104929\n",
       "sem    2.200681  0.008984"
      ]
     },
     "execution_count": 259,
     "metadata": {},
     "output_type": "execute_result"
    }
   ],
   "source": [
    "#B\n",
    "\n",
    "print(\"Below the outdegree and pagerank mean and sem of Phoebe Buffay in season 1\")\n",
    "df_centrality_all_episodes.loc[(df_centrality_all_episodes.speaker==\"Phoebe Buffay\")&(df_centrality_all_episodes.season==\"s01\")][[\"outdegree\",\"pagerank\"]].agg([\"mean\",\"sem\"])"
   ]
  },
  {
   "cell_type": "code",
   "execution_count": 260,
   "id": "ef7b8c3e",
   "metadata": {},
   "outputs": [
    {
     "name": "stdout",
     "output_type": "stream",
     "text": [
      "Below the outdegree and pagerank mean and sem of Phoebe Buffay in season 10\n"
     ]
    },
    {
     "data": {
      "text/html": [
       "<div>\n",
       "<style scoped>\n",
       "    .dataframe tbody tr th:only-of-type {\n",
       "        vertical-align: middle;\n",
       "    }\n",
       "\n",
       "    .dataframe tbody tr th {\n",
       "        vertical-align: top;\n",
       "    }\n",
       "\n",
       "    .dataframe thead th {\n",
       "        text-align: right;\n",
       "    }\n",
       "</style>\n",
       "<table border=\"1\" class=\"dataframe\">\n",
       "  <thead>\n",
       "    <tr style=\"text-align: right;\">\n",
       "      <th></th>\n",
       "      <th>outdegree</th>\n",
       "      <th>pagerank</th>\n",
       "    </tr>\n",
       "  </thead>\n",
       "  <tbody>\n",
       "    <tr>\n",
       "      <th>mean</th>\n",
       "      <td>36.944444</td>\n",
       "      <td>0.130547</td>\n",
       "    </tr>\n",
       "    <tr>\n",
       "      <th>sem</th>\n",
       "      <td>2.809266</td>\n",
       "      <td>0.007046</td>\n",
       "    </tr>\n",
       "  </tbody>\n",
       "</table>\n",
       "</div>"
      ],
      "text/plain": [
       "      outdegree  pagerank\n",
       "mean  36.944444  0.130547\n",
       "sem    2.809266  0.007046"
      ]
     },
     "execution_count": 260,
     "metadata": {},
     "output_type": "execute_result"
    }
   ],
   "source": [
    "print(\"Below the outdegree and pagerank mean and sem of Phoebe Buffay in season 10\")\n",
    "df_centrality_all_episodes.loc[(df_centrality_all_episodes.speaker==\"Phoebe Buffay\")&(df_centrality_all_episodes.season==\"s10\")][[\"outdegree\",\"pagerank\"]].agg([\"mean\",\"sem\"])"
   ]
  },
  {
   "cell_type": "code",
   "execution_count": 278,
   "id": "6d3e9702",
   "metadata": {},
   "outputs": [
    {
     "data": {
      "image/png": "[encoded data removed]",
      "text/plain": [
       "<Figure size 1000x400 with 2 Axes>"
      ]
     },
     "metadata": {},
     "output_type": "display_data"
    }
   ],
   "source": [
    "#C\n",
    "names_toplot = [\"Rachel Green\", \"Ross Geller\"]\n",
    "fig, axes = plt.subplots(1, 2, figsize=(10,4))\n",
    "sns.barplot(df_centrality_all_episodes.loc[df_centrality_all_episodes.speaker.isin(names_toplot)], x=\"speaker\", y=\"pagerank\", errorbar=('ci', 95), hue=\"speaker\", ax=axes[0])\n",
    "sns.barplot(df_centrality_all_episodes.loc[df_centrality_all_episodes.speaker.isin(names_toplot)], x=\"speaker\", y=\"outdegree\", errorbar=('ci', 95), hue=\"speaker\", ax=axes[1])\n",
    "plt.show()"
   ]
  },
  {
   "cell_type": "markdown",
   "id": "59b2d007",
   "metadata": {},
   "source": [
    "#D No the plots does not support the hypothesis that Rachel was the show's protagonist as the 95% confidence overlap for both metrics. So, we can no longer conclude on our previous conclusion made on Rachel."
   ]
  },
  {
   "cell_type": "markdown",
   "id": "94b0e5b3",
   "metadata": {},
   "source": [
    "---\n",
    "\n",
    "**1.7 —** **/True or false:/** Considering your answer in **1.6** are the following statements true or false? Justify your answer. \n",
    "\n",
    "\n",
    "A. \"In season 7, Rachel Green's episode-level PageRank and out-degree centrality are higher than Ross Geller's. This difference is statistically significant at the 0.05 significance level.\"\n",
    "\n",
    "B. \"Phoebe Buffay's out-degree grew between season 1 and season 10; this implies that other characters spoke less than her in season 10.\"\n",
    "\n",
    "C. \"Phoebe Buffay's PageRank was higher in season 10 than in season 1. This difference is statistically significant at the 0.05 significance level and suggests that the character gained importance over the course of the show.\"\n"
   ]
  },
  {
   "cell_type": "code",
   "execution_count": 285,
   "id": "87e48217",
   "metadata": {},
   "outputs": [
    {
     "name": "stdout",
     "output_type": "stream",
     "text": [
      "TtestResult(statistic=3.354896379999326, pvalue=0.0015983861574955138, df=46.0)\n",
      "TtestResult(statistic=3.629929005595827, pvalue=0.0007096026211023994, df=46.0)\n",
      "\n",
      "TRUE, after having done Ttest on pagerank and outdegree results, both have their pagerank under the 0.05 significance level\n"
     ]
    }
   ],
   "source": [
    "#A \n",
    "rachel_pagerank_set = df_centrality_all_episodes.loc[(df_centrality_all_episodes.speaker==\"Rachel Green\")&(df_centrality_all_episodes.season==\"s07\")].pagerank\n",
    "rachel_outdegree_set = df_centrality_all_episodes.loc[(df_centrality_all_episodes.speaker==\"Rachel Green\")&(df_centrality_all_episodes.season==\"s07\")].outdegree\n",
    "\n",
    "ross_pagerank_set = df_centrality_all_episodes.loc[(df_centrality_all_episodes.speaker==\"Ross Geller\")&(df_centrality_all_episodes.season==\"s07\")].pagerank\n",
    "ross_outdegree_set = df_centrality_all_episodes.loc[(df_centrality_all_episodes.speaker==\"Ross Geller\")&(df_centrality_all_episodes.season==\"s07\")].outdegree\n",
    "\n",
    "from scipy.stats import ttest_ind\n",
    "\n",
    "print(ttest_ind(rachel_pagerank_set, ross_pagerank_set))\n",
    "print(ttest_ind(rachel_outdegree_set, ross_outdegree_set))\n",
    "\n",
    "print(\"\\nTRUE, after having done Ttest on pagerank and outdegree results, both have their pagerank under the 0.05 significance level\")"
   ]
  },
  {
   "cell_type": "markdown",
   "id": "209134b3",
   "metadata": {},
   "source": [
    "#B FALSE, this does not imply. Rachel speak more (more outgoing degree) but we can not conclude from this knowledge on other character speaking time."
   ]
  },
  {
   "cell_type": "code",
   "execution_count": 293,
   "id": "f8582ede",
   "metadata": {},
   "outputs": [
    {
     "name": "stdout",
     "output_type": "stream",
     "text": [
      "TtestResult(statistic=-2.1258488247047795, pvalue=0.039739577553817566, df=40.0)\n",
      "\n",
      "True, after having done Ttest on pagerank, the p_value is 0.039<0.05 so the 0.05 significance level is achieved. Yes, as the pagerank increases, it means Phoebe importance raises between season 1 and 10.\n"
     ]
    }
   ],
   "source": [
    "#B\n",
    "phoebe_s01 = df_centrality_all_episodes.loc[(df_centrality_all_episodes.speaker==\"Phoebe Buffay\")&(df_centrality_all_episodes.season==\"s01\")].pagerank\n",
    "phoebe_s10 = df_centrality_all_episodes.loc[(df_centrality_all_episodes.speaker==\"Phoebe Buffay\")&(df_centrality_all_episodes.season==\"s10\")].pagerank\n",
    "\n",
    "print(ttest_ind(phoebe_s01, phoebe_s10))\n",
    "print(\"\\nTrue, after having done Ttest on pagerank, the p_value is 0.039<0.05 so the 0.05 significance level is achieved. Yes, as the pagerank increases, it means Phoebe importance raises between season 1 and 10.\")"
   ]
  },
  {
   "cell_type": "markdown",
   "id": "84866967",
   "metadata": {},
   "source": [
    "## Part 2: The one about text similarity (40 pts)\n",
    "\n",
    "Next, you investigate how unique characters are by analyzing what they said throughout the 10 seasons."
   ]
  },
  {
   "cell_type": "markdown",
   "id": "176a69b8",
   "metadata": {},
   "source": [
    "**2.1 —** Load the dataframe `exam3.jsonl`. This dataframe is similar to `exam1.jsonl`, except:\n",
    "\n",
    "- It has an additional column called `tokens`, containing a sentence list. Each sentence is another list composed of tokens, e.g.,\n",
    "`[['There', \"'s\", 'nothing', 'to', 'tell', '!'], ['He', \"'s\", 'just', 'some', 'guy', 'I', 'work', 'with', '!']]`.\n",
    "- It has an additional column called `episode` containing a unique episode identifier.\n",
    "- It only contains utterances by Phoebe, Rachel, Ross, Joey, Monica, or Chandler (the main characters).\n",
    " \n",
    "Given this dataframe, you will create an episode-level word-frequency matrix for Chandler Bing, one of the main characters.\n",
    "\n",
    "A. Create a list $L$ containing all distinct tokens uttered by Chandler Bing throughout the 10 seasons, sorted in ascending order. Print the 10 first and last elements of the list. \n",
    "\n",
    "B. Create a matrix $X$ with $m$ rows and $n$ columns, where: $n$ is the number of tokens in the list $L$ that you just created, and $m$ is the number of episodes (236). Each position $X_{i,j}$ in this matrix should contain the number of times the character uttered the word $j$ in episode $i$. Print how many times Chandler uttered the token `joey` in the first episode of the first season, as well as the shape of the matrix $X$.\n",
    "\n",
    "C. Transform the matrix $X$ into a TF-IDF matrix $T$, combining the following formula (as seen in class):\n",
    "\n",
    "$$\\text{TF}(i,j) = \\text{number of times the $j$-th word occurs in the $i$-th episode}$$\n",
    "\n",
    "$$\\text{IDF}(j) =  \\log \\frac{\\text{number of episodes}}{\\text{number of episodes in which the $j$-th word occurs}}$$\n",
    "\n",
    "Print the value in the TF-IDF matrix corresponding to Chandler's utterance of the token `joey` in the first episode of the first season.\n",
    "\n",
    "D. **/Discuss:/** Some of the tokens (e.g., `joey`) reference other characters. How may these tokens help a classifier predict which character uttered a sentence?"
   ]
  },
  {
   "cell_type": "code",
   "execution_count": 314,
   "id": "1d9eaf09",
   "metadata": {},
   "outputs": [],
   "source": [
    "#A\n",
    "df_part2 = pd.read_json(path_or_buf=\"data/exam3.jsonl\", lines=True)"
   ]
  },
  {
   "cell_type": "code",
   "execution_count": 342,
   "id": "fc842af8",
   "metadata": {},
   "outputs": [
    {
     "name": "stderr",
     "output_type": "stream",
     "text": [
      "C:\\Users\\paul\\AppData\\Local\\Temp/ipykernel_30692/2323383.py:2: SettingWithCopyWarning: \n",
      "A value is trying to be set on a copy of a slice from a DataFrame.\n",
      "Try using .loc[row_indexer,col_indexer] = value instead\n",
      "\n",
      "See the caveats in the documentation: https://pandas.pydata.org/pandas-docs/stable/user_guide/indexing.html#returning-a-view-versus-a-copy\n",
      "  L_chandler_df.tokens = L_chandler_df.tokens.astype(str)\n"
     ]
    }
   ],
   "source": [
    "L_chandler_df = df_part2.loc[df_part2.speaker==\"Chandler Bing\"]\n",
    "L_chandler_df.tokens = L_chandler_df.tokens.astype(str)"
   ]
  },
  {
   "cell_type": "code",
   "execution_count": 343,
   "id": "db6c10e5",
   "metadata": {},
   "outputs": [],
   "source": [
    "import codecs\n",
    "import spacy\n",
    "import os\n",
    "from collections import Counter\n",
    "\n",
    "nlp = spacy.load('en_core_web_sm')"
   ]
  },
  {
   "cell_type": "code",
   "execution_count": null,
   "id": "35c76ffa",
   "metadata": {},
   "outputs": [],
   "source": [
    "df_part2[\"tokenized\"] = df_part2[\"tokens\"].apply(lambda x: nlp.tokenizer(x))"
   ]
  },
  {
   "cell_type": "code",
   "execution_count": null,
   "id": "5cfc4c04",
   "metadata": {},
   "outputs": [],
   "source": [
    "books = []\n",
    "words = []\n",
    "for k,v in L_chandler_df.iterrows():\n",
    "    books.append([\" \".join(b.split()) for b in v.astype(str)])\n",
    "    doc = nlp(str(books[k]))\n",
    "    words.append([token.text for token in doc if token.is_punct != True])"
   ]
  },
  {
   "cell_type": "code",
   "execution_count": null,
   "id": "e5a28fc3",
   "metadata": {},
   "outputs": [],
   "source": [
    "#B"
   ]
  },
  {
   "cell_type": "markdown",
   "id": "9b691ae5",
   "metadata": {},
   "source": [
    "---\n",
    "For the remainder of the task, you will use the TF-IDF matrix that we compute below. Note:\n",
    "- This matrix was calculated in a slightly different way: it considers only the 1000 tokens with the highest term frequency.\n",
    "- We provide three useful variables below (`X`, `y`, and `df_tfidf`). \n",
    "    - `X` is a matrix containing the TF-IDF values for the top 1000 tokens, where each row corresponds to a character in an episode. \n",
    "    - `y` indicates which character is responsible for the utterance. Each character has a corresponding number, e.g., 2 for Monica Geller; see dictionary below. \n",
    "    - `df_tfidf` is a dataframe combining `X` with other episode and utterance-level metadata."
   ]
  },
  {
   "cell_type": "code",
   "execution_count": 363,
   "id": "6e0aebac",
   "metadata": {},
   "outputs": [
    {
     "name": "stdout",
     "output_type": "stream",
     "text": [
      "X shape (51312, 1000)\n",
      "y shape (51312,)\n"
     ]
    },
    {
     "data": {
      "text/html": [
       "<div>\n",
       "<style scoped>\n",
       "    .dataframe tbody tr th:only-of-type {\n",
       "        vertical-align: middle;\n",
       "    }\n",
       "\n",
       "    .dataframe tbody tr th {\n",
       "        vertical-align: top;\n",
       "    }\n",
       "\n",
       "    .dataframe thead th {\n",
       "        text-align: right;\n",
       "    }\n",
       "</style>\n",
       "<table border=\"1\" class=\"dataframe\">\n",
       "  <thead>\n",
       "    <tr style=\"text-align: right;\">\n",
       "      <th></th>\n",
       "      <th>speaker</th>\n",
       "      <th>episode</th>\n",
       "      <th>0</th>\n",
       "      <th>1</th>\n",
       "      <th>2</th>\n",
       "      <th>3</th>\n",
       "      <th>4</th>\n",
       "      <th>5</th>\n",
       "      <th>6</th>\n",
       "      <th>7</th>\n",
       "      <th>...</th>\n",
       "      <th>990</th>\n",
       "      <th>991</th>\n",
       "      <th>992</th>\n",
       "      <th>993</th>\n",
       "      <th>994</th>\n",
       "      <th>995</th>\n",
       "      <th>996</th>\n",
       "      <th>997</th>\n",
       "      <th>998</th>\n",
       "      <th>999</th>\n",
       "    </tr>\n",
       "  </thead>\n",
       "  <tbody>\n",
       "    <tr>\n",
       "      <th>0</th>\n",
       "      <td>Monica Geller</td>\n",
       "      <td>s01_e01</td>\n",
       "      <td>0.0</td>\n",
       "      <td>0.0</td>\n",
       "      <td>0.0</td>\n",
       "      <td>0.0</td>\n",
       "      <td>0.0</td>\n",
       "      <td>0.0</td>\n",
       "      <td>0.0</td>\n",
       "      <td>0.0</td>\n",
       "      <td>...</td>\n",
       "      <td>0.0</td>\n",
       "      <td>0.0</td>\n",
       "      <td>0.0</td>\n",
       "      <td>0.0</td>\n",
       "      <td>0.0</td>\n",
       "      <td>0.0</td>\n",
       "      <td>0.0</td>\n",
       "      <td>0.0</td>\n",
       "      <td>0.0</td>\n",
       "      <td>0.0</td>\n",
       "    </tr>\n",
       "    <tr>\n",
       "      <th>1</th>\n",
       "      <td>Joey Tribbiani</td>\n",
       "      <td>s01_e01</td>\n",
       "      <td>0.0</td>\n",
       "      <td>0.0</td>\n",
       "      <td>0.0</td>\n",
       "      <td>0.0</td>\n",
       "      <td>0.0</td>\n",
       "      <td>0.0</td>\n",
       "      <td>0.0</td>\n",
       "      <td>0.0</td>\n",
       "      <td>...</td>\n",
       "      <td>0.0</td>\n",
       "      <td>0.0</td>\n",
       "      <td>0.0</td>\n",
       "      <td>0.0</td>\n",
       "      <td>0.0</td>\n",
       "      <td>0.0</td>\n",
       "      <td>0.0</td>\n",
       "      <td>0.0</td>\n",
       "      <td>0.0</td>\n",
       "      <td>0.0</td>\n",
       "    </tr>\n",
       "    <tr>\n",
       "      <th>2</th>\n",
       "      <td>Chandler Bing</td>\n",
       "      <td>s01_e01</td>\n",
       "      <td>0.0</td>\n",
       "      <td>0.0</td>\n",
       "      <td>0.0</td>\n",
       "      <td>0.0</td>\n",
       "      <td>0.0</td>\n",
       "      <td>0.0</td>\n",
       "      <td>0.0</td>\n",
       "      <td>0.0</td>\n",
       "      <td>...</td>\n",
       "      <td>0.0</td>\n",
       "      <td>0.0</td>\n",
       "      <td>0.0</td>\n",
       "      <td>0.0</td>\n",
       "      <td>0.0</td>\n",
       "      <td>0.0</td>\n",
       "      <td>0.0</td>\n",
       "      <td>0.0</td>\n",
       "      <td>0.0</td>\n",
       "      <td>0.0</td>\n",
       "    </tr>\n",
       "  </tbody>\n",
       "</table>\n",
       "<p>3 rows × 1002 columns</p>\n",
       "</div>"
      ],
      "text/plain": [
       "          speaker  episode    0    1    2    3    4    5    6    7  ...  990  \\\n",
       "0   Monica Geller  s01_e01  0.0  0.0  0.0  0.0  0.0  0.0  0.0  0.0  ...  0.0   \n",
       "1  Joey Tribbiani  s01_e01  0.0  0.0  0.0  0.0  0.0  0.0  0.0  0.0  ...  0.0   \n",
       "2   Chandler Bing  s01_e01  0.0  0.0  0.0  0.0  0.0  0.0  0.0  0.0  ...  0.0   \n",
       "\n",
       "   991  992  993  994  995  996  997  998  999  \n",
       "0  0.0  0.0  0.0  0.0  0.0  0.0  0.0  0.0  0.0  \n",
       "1  0.0  0.0  0.0  0.0  0.0  0.0  0.0  0.0  0.0  \n",
       "2  0.0  0.0  0.0  0.0  0.0  0.0  0.0  0.0  0.0  \n",
       "\n",
       "[3 rows x 1002 columns]"
      ]
     },
     "execution_count": 363,
     "metadata": {},
     "output_type": "execute_result"
    }
   ],
   "source": [
    "from sklearn.feature_extraction.text import TfidfVectorizer\n",
    "df_tfidf = pd.read_json(\"./data/exam3.jsonl\", lines=True)[[\"speaker\", \"episode\", \"text\"]]\n",
    "\n",
    "vectorizer = TfidfVectorizer(max_features=1000, stop_words=\"english\")\n",
    "X = vectorizer.fit_transform(df_tfidf.text).toarray()\n",
    "print(\"X shape\", X.shape)\n",
    "\n",
    "\n",
    "map_char_to_int = {\n",
    "'Chandler Bing': 0,\n",
    "'Joey Tribbiani': 1,\n",
    "'Monica Geller': 2,\n",
    "'Phoebe Buffay': 3,\n",
    "'Rachel Green': 4,\n",
    "'Ross Geller': 5\n",
    "}\n",
    "\n",
    "\n",
    "y = df_tfidf.speaker.apply(lambda x: map_char_to_int[x]).values\n",
    "print(\"y shape\", y.shape)\n",
    "\n",
    "df_tfidf = pd.concat([df_tfidf[[\"speaker\", \"episode\"]],  pd.DataFrame(X)], axis=1)\n",
    "\n",
    "df_tfidf.head(3)"
   ]
  },
  {
   "cell_type": "markdown",
   "id": "15f01045",
   "metadata": {},
   "source": [
    "--- "
   ]
  },
  {
   "cell_type": "markdown",
   "id": "76d6b6f1",
   "metadata": {},
   "source": [
    "**2.2 —** To compare characters, carry out a classification task. Train a decision tree classifier to predict which main character uttered a sentence..\n",
    "\n",
    "A. Split the dataset into training and test sets using sklearn `sklearn.model_selection.train_test_split` using parameters `test_size=0.3` and `random_state=42`, and using the default values for all other parameters.\n",
    "\n",
    "B. Train a decision tree classifier (`sklearn.tree.DecisionTreeClassifier`) using `random_state=42`, leaving all other parameters as their default.\n",
    "\n",
    "C. Compute the accuracy of your classifier and of a random baseline, i.e., a classifier that predicts a character uniformly at random. **/Discuss:/** Compare the two accuracies.\n",
    "\n",
    "\n",
    "D. Compute the confusion matrix of your classifier using `sklearn.metrics.confusion_matrix`. Normalize the confusion matrix such that all cells sum to 1.\n",
    "\n",
    "E. Plot an appropriate graphical representation of the confusion matrix.\n",
    "\n",
    "F. **/Discuss:/** Analyzing the confusion matrix, discuss:\n",
    "   - Which character is most distinct in the way they talk?\n",
    "   - Which two characters are the most similar in the way they talk?\n",
    "   - Which two characters are the least similar in the way they talk?\n"
   ]
  },
  {
   "cell_type": "code",
   "execution_count": 364,
   "id": "03c8bf67",
   "metadata": {},
   "outputs": [],
   "source": [
    "#A\n",
    "from  sklearn.model_selection import train_test_split\n",
    "\n",
    "X_train, X_test, y_train, y_test = train_test_split(X,y,test_size=0.3,random_state=42)"
   ]
  },
  {
   "cell_type": "code",
   "execution_count": 365,
   "id": "cecbb538",
   "metadata": {},
   "outputs": [],
   "source": [
    "#B\n",
    "from sklearn.tree import DecisionTreeClassifier\n",
    "\n",
    "dt = DecisionTreeClassifier(random_state=42)\n",
    "dt.fit(X_train,y_train)"
   ]
  },
  {
   "cell_type": "code",
   "execution_count": null,
   "id": "058d0066",
   "metadata": {},
   "outputs": [],
   "source": [
    "def compute_confusion_matrix(true_label, prediction_proba, decision_threshold=0.5): \n",
    "    \"\"\"Takes outcome of a logistic regression (@prediction_proba), \n",
    "    convert it into binary result depending on the chosen @decision_threshold,\n",
    "    and classify this depending on @true_label\"\"\"\n",
    "    predict_label = (prediction_proba[:,1]>decision_threshold).astype(int)\n",
    "\n",
    "    TP = np.sum(np.logical_and(predict_label==1, true_label==1))\n",
    "    TN = np.sum(np.logical_and(predict_label==0, true_label==0))\n",
    "    FP = np.sum(np.logical_and(predict_label==1, true_label==0))\n",
    "    FN = np.sum(np.logical_and(predict_label==0, true_label==1))\n",
    "    \n",
    "    confusion_matrix = np.asarray([[TP, FP],\n",
    "                                    [FN, TN]])\n",
    "    return confusion_matrix\n",
    "\n",
    "\n",
    "\n",
    "\n",
    "def plot_confusion_matrix(confusion_matrix):\n",
    "    \"\"\"Takes the confusion matrix obtained from compute_confusion_matrix\n",
    "    and return a heatmap with corresponding results.\"\"\"\n",
    "    [[TP, FP],[FN, TN]] = confusion_matrix\n",
    "    label = np.asarray([[f'TP {TP}', f'FP {FP}'],\n",
    "                        [f'FN {FN}', f'TN {TN}']])\n",
    "    \n",
    "    df_cm = pd.DataFrame(confusion_matrix, index=['Yes', 'No'], columns=['Positive', 'Negative'])\n",
    "    \n",
    "    return sns.heatmap(df_cm, cmap='YlOrRd', annot=label, annot_kws={\"size\": 16}, cbar=False, fmt='')\n",
    "\n",
    "\n",
    "\n",
    "def compute_all_score(confusion_matrix, t=0.5):\n",
    "    \"\"\"Compute each possible score from the confusion matrix with threshold @t\"\"\"\n",
    "    [[TP, FP],[FN, TN]] = confusion_matrix.astype(float)\n",
    "    \n",
    "    accuracy =  (TP+TN)/np.sum(confusion_matrix)\n",
    "    \n",
    "    precision_positive = TP/(TP+FP) if (TP+FP) !=0 else np.nan\n",
    "    precision_negative = TN/(TN+FN) if (TN+FN) !=0 else np.nan\n",
    "    \n",
    "    recall_positive = TP/(TP+FN) if (TP+FN) !=0 else np.nan\n",
    "    recall_negative = TN/(TN+FP) if (TN+FP) !=0 else np.nan\n",
    "\n",
    "    F1_score_positive = 2 *(precision_positive*recall_positive)/(precision_positive+recall_positive) \\\n",
    "                                    if (precision_positive+recall_positive) !=0 else np.nan\n",
    "    F1_score_negative = 2 *(precision_negative*recall_negative)/(precision_negative+recall_negative) \\\n",
    "                                    if (precision_negative+recall_negative) !=0 else np.nan\n",
    "\n",
    "    return [t, accuracy, precision_positive, recall_positive, F1_score_positive,\n",
    "            precision_negative, recall_negative, F1_score_negative]"
   ]
  },
  {
   "cell_type": "code",
   "execution_count": null,
   "id": "24b93354",
   "metadata": {},
   "outputs": [],
   "source": [
    "#C"
   ]
  },
  {
   "cell_type": "code",
   "execution_count": null,
   "id": "df0891ea",
   "metadata": {},
   "outputs": [],
   "source": [
    "#D\n"
   ]
  },
  {
   "cell_type": "markdown",
   "id": "1a158a88",
   "metadata": {},
   "source": [
    "---\n",
    "\n",
    "**2.3 —** **/Discuss:/** Last, you discuss the results obtained in **2.2** with a friend, who asks you some thought-provoking questions.\n",
    "\n",
    "A. Your friend proposes that you should create a measure of similarity between two characters in a given episode in a more direct way than what you've done in **2.2**.  Propose (but do not implement) said similarity metric.\n",
    "\n",
    "B. Your friend also suggests that your analysis might not truly capture how two characters differ. According to her, if people are in the same conversation, they might speak similarly simply because they are in the same social context. Propose (but do not implement) a way of creating a dataset where this confounder does not exist.\n",
    "\n",
    "C. Last, your friend complains about how you present your (normalized) confusion matrix. According to her, from reading the cells alone, it is unclear if the fraction of occurrences is higher or lower than what a random classifier would yield. Propose (but do not implement) a way of modifying the confusion matrix to address her concern.\n"
   ]
  },
  {
   "cell_type": "code",
   "execution_count": null,
   "id": "9d4253a5",
   "metadata": {},
   "outputs": [],
   "source": []
  },
  {
   "cell_type": "markdown",
   "id": "25c65d90",
   "metadata": {},
   "source": [
    "---"
   ]
  }
 ],
 "metadata": {
  "kernelspec": {
   "display_name": "Python 3 (ipykernel)",
   "language": "python",
   "name": "python3"
  },
  "language_info": {
   "codemirror_mode": {
    "name": "ipython",
    "version": 3
   },
   "file_extension": ".py",
   "mimetype": "text/x-python",
   "name": "python",
   "nbconvert_exporter": "python",
   "pygments_lexer": "ipython3",
   "version": "3.9.7"
  }
 },
 "nbformat": 4,
 "nbformat_minor": 5
}
